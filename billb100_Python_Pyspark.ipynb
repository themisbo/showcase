{
 "cells": [
  {
   "cell_type": "markdown",
   "id": "3583913b",
   "metadata": {},
   "source": [
    "## Data analysis of the billboard 100 data\n",
    "\n",
    "This document is part of the showcase, where I replicate the same brief and simple analyses with different tools.\n",
    "\n",
    "This particular file focuses on data analysis (a few queries) of the billboard 100 data from the tidytuesday project.\n",
    "\n",
    "The data can be found in <https://github.com/rfordatascience/tidytuesday/tree/master/data/2021/2021-09-14>. They consist of two documents: *billboard.csv* contains information about the songs focusing on their position in the top100 list at different weeks. *audio_features.csv* contains information about specific attributes of the songs from spotify.\n",
    "\n",
    "For the specific analysis I will use **Python** and **Pyspark** (plus **Jupyter notebook**).\n",
    "\n",
    "We start by loading the pyspark package:"
   ]
  },
  {
   "cell_type": "code",
   "execution_count": 1,
   "id": "641394c8",
   "metadata": {},
   "outputs": [],
   "source": [
    "from pyspark.sql import SparkSession"
   ]
  },
  {
   "cell_type": "markdown",
   "id": "d5c352e6",
   "metadata": {},
   "source": [
    "Then we need to create a Spark Session:"
   ]
  },
  {
   "cell_type": "code",
   "execution_count": 2,
   "id": "edf0e2de",
   "metadata": {},
   "outputs": [],
   "source": [
    "spark = SparkSession.builder.getOrCreate()"
   ]
  },
  {
   "cell_type": "markdown",
   "id": "a2b20bd4",
   "metadata": {},
   "source": [
    "We load the *billboard* dataset:"
   ]
  },
  {
   "cell_type": "code",
   "execution_count": 3,
   "id": "7602aa5b",
   "metadata": {},
   "outputs": [],
   "source": [
    "from pyspark import SparkFiles\n",
    "\n",
    "url = \"https://raw.githubusercontent.com/rfordatascience/tidytuesday/master/data/2021/2021-09-14/billboard.csv\"\n",
    "spark.sparkContext.addFile(url)\n",
    "billboard = spark.read.csv(SparkFiles.get(\"billboard.csv\"), header=True)\n",
    "\n",
    "# import pandas as pd\n",
    "# df = spark.createDataFrame(pd.read_csv(url))"
   ]
  },
  {
   "cell_type": "markdown",
   "id": "34d0e123",
   "metadata": {},
   "source": [
    "And check its schema:"
   ]
  },
  {
   "cell_type": "code",
   "execution_count": 4,
   "id": "dcbee9c8",
   "metadata": {},
   "outputs": [
    {
     "name": "stdout",
     "output_type": "stream",
     "text": [
      "root\n",
      " |-- url: string (nullable = true)\n",
      " |-- week_id: string (nullable = true)\n",
      " |-- week_position: string (nullable = true)\n",
      " |-- song: string (nullable = true)\n",
      " |-- performer: string (nullable = true)\n",
      " |-- song_id: string (nullable = true)\n",
      " |-- instance: string (nullable = true)\n",
      " |-- previous_week_position: string (nullable = true)\n",
      " |-- peak_position: string (nullable = true)\n",
      " |-- weeks_on_chart: string (nullable = true)\n",
      "\n"
     ]
    }
   ],
   "source": [
    "billboard.printSchema()"
   ]
  },
  {
   "cell_type": "markdown",
   "id": "ef4d8b9c",
   "metadata": {},
   "source": [
    "The schema indicates that everything is a string, so we have to fix it:"
   ]
  },
  {
   "cell_type": "code",
   "execution_count": 5,
   "id": "0ad03d1b",
   "metadata": {},
   "outputs": [
    {
     "name": "stdout",
     "output_type": "stream",
     "text": [
      "root\n",
      " |-- url: string (nullable = true)\n",
      " |-- week_id: date (nullable = true)\n",
      " |-- week_position: integer (nullable = true)\n",
      " |-- song: string (nullable = true)\n",
      " |-- performer: string (nullable = true)\n",
      " |-- song_id: string (nullable = true)\n",
      " |-- instance: integer (nullable = true)\n",
      " |-- previous_week_position: integer (nullable = true)\n",
      " |-- peak_position: integer (nullable = true)\n",
      " |-- weeks_on_chart: integer (nullable = true)\n",
      "\n"
     ]
    }
   ],
   "source": [
    "from pyspark.sql.functions import col\n",
    "from pyspark.sql.types import StringType,DateType,IntegerType,BooleanType\n",
    "\n",
    "billboard = billboard.withColumn(\"week_position\",col(\"week_position\").cast(IntegerType())) \\\n",
    "    .withColumn(\"week_id\",col(\"week_id\").cast(DateType())) \\\n",
    "    .withColumn(\"instance\",col(\"instance\").cast(IntegerType())) \\\n",
    "    .withColumn(\"previous_week_position\",col(\"previous_week_position\").cast(IntegerType())) \\\n",
    "    .withColumn(\"peak_position\",col(\"peak_position\").cast(IntegerType())) \\\n",
    "    .withColumn(\"weeks_on_chart\",col(\"weeks_on_chart\").cast(IntegerType()))\n",
    "billboard.printSchema()"
   ]
  },
  {
   "cell_type": "markdown",
   "id": "3797b381",
   "metadata": {},
   "source": [
    "We check indicatively a single row:"
   ]
  },
  {
   "cell_type": "code",
   "execution_count": 6,
   "id": "18f94a92",
   "metadata": {},
   "outputs": [
    {
     "name": "stdout",
     "output_type": "stream",
     "text": [
      "-RECORD 0--------------------------------------------------------------------\n",
      " url                    | http://www.billboard.com/charts/hot-100/1965-07-17 \n",
      " week_id                | null                                               \n",
      " week_position          | 34                                                 \n",
      " song                   | Don't Just Stand There                             \n",
      " performer              | Patty Duke                                         \n",
      " song_id                | Don't Just Stand TherePatty Duke                   \n",
      " instance               | 1                                                  \n",
      " previous_week_position | 45                                                 \n",
      " peak_position          | 34                                                 \n",
      " weeks_on_chart         | 4                                                  \n",
      "only showing top 1 row\n",
      "\n"
     ]
    }
   ],
   "source": [
    "billboard.show(1, truncate=False, vertical=True)"
   ]
  },
  {
   "cell_type": "markdown",
   "id": "0d9e80c9",
   "metadata": {},
   "source": [
    "And the summary statistics:"
   ]
  },
  {
   "cell_type": "code",
   "execution_count": 7,
   "id": "aca87a48",
   "metadata": {},
   "outputs": [
    {
     "name": "stdout",
     "output_type": "stream",
     "text": [
      "-RECORD 0-------------------------------------------------------------------------------------------\n",
      " summary                | count                                                                     \n",
      " url                    | 327895                                                                    \n",
      " week_position          | 327895                                                                    \n",
      " song                   | 327895                                                                    \n",
      " performer              | 327895                                                                    \n",
      " song_id                | 327895                                                                    \n",
      " instance               | 327729                                                                    \n",
      " previous_week_position | 295785                                                                    \n",
      " peak_position          | 327888                                                                    \n",
      " weeks_on_chart         | 327886                                                                    \n",
      "-RECORD 1-------------------------------------------------------------------------------------------\n",
      " summary                | mean                                                                      \n",
      " url                    | null                                                                      \n",
      " week_position          | 50.4993092300889                                                          \n",
      " song                   | Infinity                                                                  \n",
      " performer              | 345.25598591549294                                                        \n",
      " song_id                | null                                                                      \n",
      " instance               | 1.0725752069545265                                                        \n",
      " previous_week_position | 47.60727893571344                                                         \n",
      " peak_position          | 41.34167154638169                                                         \n",
      " weeks_on_chart         | 9.166820175304832                                                         \n",
      "-RECORD 2-------------------------------------------------------------------------------------------\n",
      " summary                | stddev                                                                    \n",
      " url                    | null                                                                      \n",
      " week_position          | 28.865707346111346                                                        \n",
      " song                   | NaN                                                                       \n",
      " performer              | 309.3651342493697                                                         \n",
      " song_id                | null                                                                      \n",
      " instance               | 0.3342683615658183                                                        \n",
      " previous_week_position | 28.05610049524877                                                         \n",
      " peak_position          | 29.548398687855887                                                        \n",
      " weeks_on_chart         | 7.640002589587696                                                         \n",
      "-RECORD 3-------------------------------------------------------------------------------------------\n",
      " summary                | min                                                                       \n",
      " url                    | http://www.billboard.com/charts/hot-100/1958-08-02                        \n",
      " week_position          | 1                                                                         \n",
      " song                   | \"\"\"B\"\" Girls\"                                                             \n",
      " performer              |  90210\"\")\"                                                                \n",
      " song_id                |  EVE & Q-Tip\"                                                             \n",
      " instance               | 1                                                                         \n",
      " previous_week_position | 1                                                                         \n",
      " peak_position          | 1                                                                         \n",
      " weeks_on_chart         | 1                                                                         \n",
      "-RECORD 4-------------------------------------------------------------------------------------------\n",
      " summary                | max                                                                       \n",
      " url                    | https://www.billboard.com/charts/hot-100/2021-05-29                       \n",
      " week_position          | 100                                                                       \n",
      " song                   | ¿Dònde Està Santa Claus? (Where Is Santa Claus?)                          \n",
      " performer              | will.i.am Featuring Miley Cyrus, French Montana, Wiz Khalifa & DJ Mustard \n",
      " song_id                | ¿Dònde Està Santa Claus? (Where Is Santa Claus?)Augie Rios                \n",
      " instance               | 10                                                                        \n",
      " previous_week_position | 100                                                                       \n",
      " peak_position          | 100                                                                       \n",
      " weeks_on_chart         | 97                                                                        \n",
      "\n"
     ]
    }
   ],
   "source": [
    "billboard.describe().show(truncate=False, vertical=True)"
   ]
  },
  {
   "cell_type": "markdown",
   "id": "659047da",
   "metadata": {},
   "source": [
    "Also the column names:"
   ]
  },
  {
   "cell_type": "code",
   "execution_count": 8,
   "id": "823014a9",
   "metadata": {},
   "outputs": [
    {
     "data": {
      "text/plain": [
       "['url',\n",
       " 'week_id',\n",
       " 'week_position',\n",
       " 'song',\n",
       " 'performer',\n",
       " 'song_id',\n",
       " 'instance',\n",
       " 'previous_week_position',\n",
       " 'peak_position',\n",
       " 'weeks_on_chart']"
      ]
     },
     "execution_count": 8,
     "metadata": {},
     "output_type": "execute_result"
    }
   ],
   "source": [
    "billboard.columns"
   ]
  },
  {
   "cell_type": "markdown",
   "id": "1a3ac5b6",
   "metadata": {},
   "source": [
    "We can choose to transform the Spark dataset into a Pandas dataset:"
   ]
  },
  {
   "cell_type": "code",
   "execution_count": 9,
   "id": "4cc6bf7c",
   "metadata": {},
   "outputs": [
    {
     "data": {
      "text/html": [
       "<div>\n",
       "<style scoped>\n",
       "    .dataframe tbody tr th:only-of-type {\n",
       "        vertical-align: middle;\n",
       "    }\n",
       "\n",
       "    .dataframe tbody tr th {\n",
       "        vertical-align: top;\n",
       "    }\n",
       "\n",
       "    .dataframe thead th {\n",
       "        text-align: right;\n",
       "    }\n",
       "</style>\n",
       "<table border=\"1\" class=\"dataframe\">\n",
       "  <thead>\n",
       "    <tr style=\"text-align: right;\">\n",
       "      <th></th>\n",
       "      <th>url</th>\n",
       "      <th>week_id</th>\n",
       "      <th>week_position</th>\n",
       "      <th>song</th>\n",
       "      <th>performer</th>\n",
       "      <th>song_id</th>\n",
       "      <th>instance</th>\n",
       "      <th>previous_week_position</th>\n",
       "      <th>peak_position</th>\n",
       "      <th>weeks_on_chart</th>\n",
       "    </tr>\n",
       "  </thead>\n",
       "  <tbody>\n",
       "    <tr>\n",
       "      <th>0</th>\n",
       "      <td>http://www.billboard.com/charts/hot-100/1965-0...</td>\n",
       "      <td>None</td>\n",
       "      <td>34</td>\n",
       "      <td>Don't Just Stand There</td>\n",
       "      <td>Patty Duke</td>\n",
       "      <td>Don't Just Stand TherePatty Duke</td>\n",
       "      <td>1.0</td>\n",
       "      <td>45.0</td>\n",
       "      <td>34.0</td>\n",
       "      <td>4.0</td>\n",
       "    </tr>\n",
       "    <tr>\n",
       "      <th>1</th>\n",
       "      <td>http://www.billboard.com/charts/hot-100/1965-0...</td>\n",
       "      <td>None</td>\n",
       "      <td>22</td>\n",
       "      <td>Don't Just Stand There</td>\n",
       "      <td>Patty Duke</td>\n",
       "      <td>Don't Just Stand TherePatty Duke</td>\n",
       "      <td>1.0</td>\n",
       "      <td>34.0</td>\n",
       "      <td>22.0</td>\n",
       "      <td>5.0</td>\n",
       "    </tr>\n",
       "    <tr>\n",
       "      <th>2</th>\n",
       "      <td>http://www.billboard.com/charts/hot-100/1965-0...</td>\n",
       "      <td>None</td>\n",
       "      <td>14</td>\n",
       "      <td>Don't Just Stand There</td>\n",
       "      <td>Patty Duke</td>\n",
       "      <td>Don't Just Stand TherePatty Duke</td>\n",
       "      <td>1.0</td>\n",
       "      <td>22.0</td>\n",
       "      <td>14.0</td>\n",
       "      <td>6.0</td>\n",
       "    </tr>\n",
       "    <tr>\n",
       "      <th>3</th>\n",
       "      <td>http://www.billboard.com/charts/hot-100/1965-0...</td>\n",
       "      <td>None</td>\n",
       "      <td>10</td>\n",
       "      <td>Don't Just Stand There</td>\n",
       "      <td>Patty Duke</td>\n",
       "      <td>Don't Just Stand TherePatty Duke</td>\n",
       "      <td>1.0</td>\n",
       "      <td>14.0</td>\n",
       "      <td>10.0</td>\n",
       "      <td>7.0</td>\n",
       "    </tr>\n",
       "    <tr>\n",
       "      <th>4</th>\n",
       "      <td>http://www.billboard.com/charts/hot-100/1965-0...</td>\n",
       "      <td>None</td>\n",
       "      <td>8</td>\n",
       "      <td>Don't Just Stand There</td>\n",
       "      <td>Patty Duke</td>\n",
       "      <td>Don't Just Stand TherePatty Duke</td>\n",
       "      <td>1.0</td>\n",
       "      <td>10.0</td>\n",
       "      <td>8.0</td>\n",
       "      <td>8.0</td>\n",
       "    </tr>\n",
       "    <tr>\n",
       "      <th>...</th>\n",
       "      <td>...</td>\n",
       "      <td>...</td>\n",
       "      <td>...</td>\n",
       "      <td>...</td>\n",
       "      <td>...</td>\n",
       "      <td>...</td>\n",
       "      <td>...</td>\n",
       "      <td>...</td>\n",
       "      <td>...</td>\n",
       "      <td>...</td>\n",
       "    </tr>\n",
       "    <tr>\n",
       "      <th>327890</th>\n",
       "      <td>https://www.billboard.com/charts/hot-100/2018-...</td>\n",
       "      <td>None</td>\n",
       "      <td>22</td>\n",
       "      <td>God Is A Woman</td>\n",
       "      <td>Ariana Grande</td>\n",
       "      <td>God Is A WomanAriana Grande</td>\n",
       "      <td>1.0</td>\n",
       "      <td>21.0</td>\n",
       "      <td>8.0</td>\n",
       "      <td>13.0</td>\n",
       "    </tr>\n",
       "    <tr>\n",
       "      <th>327891</th>\n",
       "      <td>http://www.billboard.com/charts/hot-100/1977-0...</td>\n",
       "      <td>None</td>\n",
       "      <td>22</td>\n",
       "      <td>I Wanna Get Next To You</td>\n",
       "      <td>Rose Royce</td>\n",
       "      <td>I Wanna Get Next To YouRose Royce</td>\n",
       "      <td>1.0</td>\n",
       "      <td>10.0</td>\n",
       "      <td>10.0</td>\n",
       "      <td>13.0</td>\n",
       "    </tr>\n",
       "    <tr>\n",
       "      <th>327892</th>\n",
       "      <td>http://www.billboard.com/charts/hot-100/1981-0...</td>\n",
       "      <td>None</td>\n",
       "      <td>22</td>\n",
       "      <td>I Can't Stand It</td>\n",
       "      <td>Eric Clapton And His Band</td>\n",
       "      <td>I Can't Stand ItEric Clapton And His Band</td>\n",
       "      <td>1.0</td>\n",
       "      <td>12.0</td>\n",
       "      <td>10.0</td>\n",
       "      <td>13.0</td>\n",
       "    </tr>\n",
       "    <tr>\n",
       "      <th>327893</th>\n",
       "      <td>http://www.billboard.com/charts/hot-100/1973-0...</td>\n",
       "      <td>None</td>\n",
       "      <td>22</td>\n",
       "      <td>Here I Am Come &amp; Take Me</td>\n",
       "      <td>Al Green</td>\n",
       "      <td>Here I Am Come &amp; Take MeAl Green</td>\n",
       "      <td>1.0</td>\n",
       "      <td>16.0</td>\n",
       "      <td>10.0</td>\n",
       "      <td>13.0</td>\n",
       "    </tr>\n",
       "    <tr>\n",
       "      <th>327894</th>\n",
       "      <td>https://www.billboard.com/charts/hot-100/2020-...</td>\n",
       "      <td>None</td>\n",
       "      <td>22</td>\n",
       "      <td>Hawai</td>\n",
       "      <td>Maluma &amp; The Weeknd</td>\n",
       "      <td>HawaiMaluma &amp; The Weeknd</td>\n",
       "      <td>1.0</td>\n",
       "      <td>12.0</td>\n",
       "      <td>12.0</td>\n",
       "      <td>13.0</td>\n",
       "    </tr>\n",
       "  </tbody>\n",
       "</table>\n",
       "<p>327895 rows × 10 columns</p>\n",
       "</div>"
      ],
      "text/plain": [
       "                                                      url week_id  \\\n",
       "0       http://www.billboard.com/charts/hot-100/1965-0...    None   \n",
       "1       http://www.billboard.com/charts/hot-100/1965-0...    None   \n",
       "2       http://www.billboard.com/charts/hot-100/1965-0...    None   \n",
       "3       http://www.billboard.com/charts/hot-100/1965-0...    None   \n",
       "4       http://www.billboard.com/charts/hot-100/1965-0...    None   \n",
       "...                                                   ...     ...   \n",
       "327890  https://www.billboard.com/charts/hot-100/2018-...    None   \n",
       "327891  http://www.billboard.com/charts/hot-100/1977-0...    None   \n",
       "327892  http://www.billboard.com/charts/hot-100/1981-0...    None   \n",
       "327893  http://www.billboard.com/charts/hot-100/1973-0...    None   \n",
       "327894  https://www.billboard.com/charts/hot-100/2020-...    None   \n",
       "\n",
       "        week_position                      song                  performer  \\\n",
       "0                  34    Don't Just Stand There                 Patty Duke   \n",
       "1                  22    Don't Just Stand There                 Patty Duke   \n",
       "2                  14    Don't Just Stand There                 Patty Duke   \n",
       "3                  10    Don't Just Stand There                 Patty Duke   \n",
       "4                   8    Don't Just Stand There                 Patty Duke   \n",
       "...               ...                       ...                        ...   \n",
       "327890             22            God Is A Woman              Ariana Grande   \n",
       "327891             22   I Wanna Get Next To You                 Rose Royce   \n",
       "327892             22          I Can't Stand It  Eric Clapton And His Band   \n",
       "327893             22  Here I Am Come & Take Me                   Al Green   \n",
       "327894             22                     Hawai        Maluma & The Weeknd   \n",
       "\n",
       "                                          song_id  instance  \\\n",
       "0                Don't Just Stand TherePatty Duke       1.0   \n",
       "1                Don't Just Stand TherePatty Duke       1.0   \n",
       "2                Don't Just Stand TherePatty Duke       1.0   \n",
       "3                Don't Just Stand TherePatty Duke       1.0   \n",
       "4                Don't Just Stand TherePatty Duke       1.0   \n",
       "...                                           ...       ...   \n",
       "327890                God Is A WomanAriana Grande       1.0   \n",
       "327891          I Wanna Get Next To YouRose Royce       1.0   \n",
       "327892  I Can't Stand ItEric Clapton And His Band       1.0   \n",
       "327893           Here I Am Come & Take MeAl Green       1.0   \n",
       "327894                   HawaiMaluma & The Weeknd       1.0   \n",
       "\n",
       "        previous_week_position  peak_position  weeks_on_chart  \n",
       "0                         45.0           34.0             4.0  \n",
       "1                         34.0           22.0             5.0  \n",
       "2                         22.0           14.0             6.0  \n",
       "3                         14.0           10.0             7.0  \n",
       "4                         10.0            8.0             8.0  \n",
       "...                        ...            ...             ...  \n",
       "327890                    21.0            8.0            13.0  \n",
       "327891                    10.0           10.0            13.0  \n",
       "327892                    12.0           10.0            13.0  \n",
       "327893                    16.0           10.0            13.0  \n",
       "327894                    12.0           12.0            13.0  \n",
       "\n",
       "[327895 rows x 10 columns]"
      ]
     },
     "execution_count": 9,
     "metadata": {},
     "output_type": "execute_result"
    }
   ],
   "source": [
    "billboard.toPandas()"
   ]
  },
  {
   "cell_type": "markdown",
   "id": "af5ad051",
   "metadata": {},
   "source": [
    "For the first main query, our aim is to select only the songs that have reached the No 1 spot of the billboard and see how many weeks they have stayed at the billboard in total:"
   ]
  },
  {
   "cell_type": "code",
   "execution_count": 10,
   "id": "5e6a173a",
   "metadata": {},
   "outputs": [],
   "source": [
    "import pyspark.sql.functions as sf\n",
    "\n",
    "top_songs = billboard.filter(\"peak_position == 1\")\\\n",
    "    .drop('url', 'peak_position', 'previous_week_position')\\\n",
    "    .groupBy(\"performer\", \"song\").agg(sf.max('weeks_on_chart').alias('max_weeks'))\\\n",
    "    .sort(col(\"max_weeks\").desc())"
   ]
  },
  {
   "cell_type": "code",
   "execution_count": 11,
   "id": "b4ac4fac",
   "metadata": {},
   "outputs": [
    {
     "name": "stdout",
     "output_type": "stream",
     "text": [
      "+--------------------+--------------------+---------+\n",
      "|           performer|                song|max_weeks|\n",
      "+--------------------+--------------------+---------+\n",
      "|           90210\"\")\"|\"The Right Kind O...|       97|\n",
      "|        Big City\"\")\"|\"Kiss And Tell (F...|       95|\n",
      "|                2\"\"\"|\"Roc Ya Body \"\"Mi...|       94|\n",
      "|        Big City\"\")\"|\"Century's End (F...|       92|\n",
      "|           90210\"\")\"|\"Love Is (From \"\"...|       92|\n",
      "|Master P Featurin...|\"If I Could Chang...|       90|\n",
      "|LMFAO Featuring L...|   Party Rock Anthem|       68|\n",
      "|           90210\"\")\"|\"Saving Forever F...|       67|\n",
      "|               Adele| Rolling In The Deep|       65|\n",
      "|Brandy, Tamia, Gl...|\"Missing You (Fro...|       62|\n",
      "+--------------------+--------------------+---------+\n",
      "only showing top 10 rows\n",
      "\n"
     ]
    }
   ],
   "source": [
    "top_songs.show(10)"
   ]
  },
  {
   "cell_type": "markdown",
   "id": "4cb8359c",
   "metadata": {},
   "source": [
    "Alternatively, we can use SQL syntax. We start with a basic query that corresponds to extracting the first 10 lines of the billboard dataframe:"
   ]
  },
  {
   "cell_type": "code",
   "execution_count": 12,
   "id": "7094c9dd",
   "metadata": {},
   "outputs": [
    {
     "name": "stdout",
     "output_type": "stream",
     "text": [
      "-RECORD 0--------------------------------------------------------------------\n",
      " url                    | http://www.billboard.com/charts/hot-100/1965-07-17 \n",
      " week_id                | null                                               \n",
      " week_position          | 34                                                 \n",
      " song                   | Don't Just Stand There                             \n",
      " performer              | Patty Duke                                         \n",
      " song_id                | Don't Just Stand TherePatty Duke                   \n",
      " instance               | 1                                                  \n",
      " previous_week_position | 45                                                 \n",
      " peak_position          | 34                                                 \n",
      " weeks_on_chart         | 4                                                  \n",
      "-RECORD 1--------------------------------------------------------------------\n",
      " url                    | http://www.billboard.com/charts/hot-100/1965-07-24 \n",
      " week_id                | null                                               \n",
      " week_position          | 22                                                 \n",
      " song                   | Don't Just Stand There                             \n",
      " performer              | Patty Duke                                         \n",
      " song_id                | Don't Just Stand TherePatty Duke                   \n",
      " instance               | 1                                                  \n",
      " previous_week_position | 34                                                 \n",
      " peak_position          | 22                                                 \n",
      " weeks_on_chart         | 5                                                  \n",
      "-RECORD 2--------------------------------------------------------------------\n",
      " url                    | http://www.billboard.com/charts/hot-100/1965-07-31 \n",
      " week_id                | null                                               \n",
      " week_position          | 14                                                 \n",
      " song                   | Don't Just Stand There                             \n",
      " performer              | Patty Duke                                         \n",
      " song_id                | Don't Just Stand TherePatty Duke                   \n",
      " instance               | 1                                                  \n",
      " previous_week_position | 22                                                 \n",
      " peak_position          | 14                                                 \n",
      " weeks_on_chart         | 6                                                  \n",
      "-RECORD 3--------------------------------------------------------------------\n",
      " url                    | http://www.billboard.com/charts/hot-100/1965-08-07 \n",
      " week_id                | null                                               \n",
      " week_position          | 10                                                 \n",
      " song                   | Don't Just Stand There                             \n",
      " performer              | Patty Duke                                         \n",
      " song_id                | Don't Just Stand TherePatty Duke                   \n",
      " instance               | 1                                                  \n",
      " previous_week_position | 14                                                 \n",
      " peak_position          | 10                                                 \n",
      " weeks_on_chart         | 7                                                  \n",
      "-RECORD 4--------------------------------------------------------------------\n",
      " url                    | http://www.billboard.com/charts/hot-100/1965-08-14 \n",
      " week_id                | null                                               \n",
      " week_position          | 8                                                  \n",
      " song                   | Don't Just Stand There                             \n",
      " performer              | Patty Duke                                         \n",
      " song_id                | Don't Just Stand TherePatty Duke                   \n",
      " instance               | 1                                                  \n",
      " previous_week_position | 10                                                 \n",
      " peak_position          | 8                                                  \n",
      " weeks_on_chart         | 8                                                  \n",
      "only showing top 5 rows\n",
      "\n"
     ]
    }
   ],
   "source": [
    "billboard.createOrReplaceTempView(\"billboard_SQL\")\n",
    "\n",
    "sql_basic = spark.sql(\"SELECT * FROM billboard_SQL LIMIT 10\")\n",
    "sql_basic.show(5, truncate=False, vertical=True)"
   ]
  },
  {
   "cell_type": "markdown",
   "id": "14f0a91e",
   "metadata": {},
   "source": [
    "The same first main query with spark and SQL syntax is:"
   ]
  },
  {
   "cell_type": "code",
   "execution_count": 13,
   "id": "e1005e38",
   "metadata": {},
   "outputs": [
    {
     "name": "stdout",
     "output_type": "stream",
     "text": [
      "+--------------------+--------------------+---------+\n",
      "|           performer|                song|max_weeks|\n",
      "+--------------------+--------------------+---------+\n",
      "|           90210\"\")\"|\"The Right Kind O...|       97|\n",
      "|        Big City\"\")\"|\"Kiss And Tell (F...|       95|\n",
      "|                2\"\"\"|\"Roc Ya Body \"\"Mi...|       94|\n",
      "|        Big City\"\")\"|\"Century's End (F...|       92|\n",
      "|           90210\"\")\"|\"Love Is (From \"\"...|       92|\n",
      "|Master P Featurin...|\"If I Could Chang...|       90|\n",
      "|LMFAO Featuring L...|   Party Rock Anthem|       68|\n",
      "|           90210\"\")\"|\"Saving Forever F...|       67|\n",
      "|               Adele| Rolling In The Deep|       65|\n",
      "|Brandy, Tamia, Gl...|\"Missing You (Fro...|       62|\n",
      "+--------------------+--------------------+---------+\n",
      "\n"
     ]
    }
   ],
   "source": [
    "sql_top10 = spark.sql(\"SELECT performer, song, MAX(weeks_on_chart) AS max_weeks\\\n",
    "  FROM billboard_SQL\\\n",
    "  WHERE (peak_position=1.0)\\\n",
    "  GROUP BY performer, song\\\n",
    "  ORDER BY max_weeks DESC\\\n",
    "  LIMIT 10\")\n",
    "sql_top10.show()"
   ]
  },
  {
   "cell_type": "markdown",
   "id": "7ff0b85c",
   "metadata": {},
   "source": [
    "We now load the *audio_features* dataset and we fix the schema:"
   ]
  },
  {
   "cell_type": "code",
   "execution_count": 14,
   "id": "ea1eb3d5",
   "metadata": {},
   "outputs": [],
   "source": [
    "url = \"https://raw.githubusercontent.com/rfordatascience/tidytuesday/master/data/2021/2021-09-14/audio_features.csv\"\n",
    "spark.sparkContext.addFile(url)\n",
    "audio_features = spark.read.csv(SparkFiles.get(\"audio_features.csv\"), header=True)"
   ]
  },
  {
   "cell_type": "code",
   "execution_count": 15,
   "id": "4c1961cf",
   "metadata": {},
   "outputs": [
    {
     "name": "stdout",
     "output_type": "stream",
     "text": [
      "root\n",
      " |-- song_id: string (nullable = true)\n",
      " |-- performer: string (nullable = true)\n",
      " |-- song: string (nullable = true)\n",
      " |-- spotify_genre: string (nullable = true)\n",
      " |-- spotify_track_id: string (nullable = true)\n",
      " |-- spotify_track_preview_url: string (nullable = true)\n",
      " |-- spotify_track_duration_ms: string (nullable = true)\n",
      " |-- spotify_track_explicit: string (nullable = true)\n",
      " |-- spotify_track_album: string (nullable = true)\n",
      " |-- danceability: string (nullable = true)\n",
      " |-- energy: string (nullable = true)\n",
      " |-- key: string (nullable = true)\n",
      " |-- loudness: string (nullable = true)\n",
      " |-- mode: string (nullable = true)\n",
      " |-- speechiness: string (nullable = true)\n",
      " |-- acousticness: string (nullable = true)\n",
      " |-- instrumentalness: string (nullable = true)\n",
      " |-- liveness: string (nullable = true)\n",
      " |-- valence: string (nullable = true)\n",
      " |-- tempo: string (nullable = true)\n",
      " |-- time_signature: string (nullable = true)\n",
      " |-- spotify_track_popularity: string (nullable = true)\n",
      "\n"
     ]
    }
   ],
   "source": [
    "audio_features.printSchema()"
   ]
  },
  {
   "cell_type": "code",
   "execution_count": 16,
   "id": "ff2ea4fa",
   "metadata": {},
   "outputs": [
    {
     "name": "stdout",
     "output_type": "stream",
     "text": [
      "root\n",
      " |-- song_id: string (nullable = true)\n",
      " |-- performer: string (nullable = true)\n",
      " |-- song: string (nullable = true)\n",
      " |-- spotify_genre: string (nullable = true)\n",
      " |-- spotify_track_id: string (nullable = true)\n",
      " |-- spotify_track_preview_url: string (nullable = true)\n",
      " |-- spotify_track_duration_ms: integer (nullable = true)\n",
      " |-- spotify_track_explicit: boolean (nullable = true)\n",
      " |-- spotify_track_album: string (nullable = true)\n",
      " |-- danceability: integer (nullable = true)\n",
      " |-- energy: integer (nullable = true)\n",
      " |-- key: integer (nullable = true)\n",
      " |-- loudness: integer (nullable = true)\n",
      " |-- mode: integer (nullable = true)\n",
      " |-- speechiness: integer (nullable = true)\n",
      " |-- acousticness: integer (nullable = true)\n",
      " |-- instrumentalness: integer (nullable = true)\n",
      " |-- liveness: integer (nullable = true)\n",
      " |-- valence: integer (nullable = true)\n",
      " |-- tempo: integer (nullable = true)\n",
      " |-- time_signature: integer (nullable = true)\n",
      " |-- spotify_track_popularity: integer (nullable = true)\n",
      "\n"
     ]
    }
   ],
   "source": [
    "audio_features = audio_features.withColumn(\"spotify_track_duration_ms\",col(\"spotify_track_duration_ms\").cast(IntegerType())) \\\n",
    "    .withColumn(\"spotify_track_explicit\",col(\"spotify_track_explicit\").cast(BooleanType())) \\\n",
    "    .withColumn(\"danceability\",col(\"danceability\").cast(IntegerType())) \\\n",
    "    .withColumn(\"energy\",col(\"energy\").cast(IntegerType())) \\\n",
    "    .withColumn(\"key\",col(\"key\").cast(IntegerType())) \\\n",
    "    .withColumn(\"loudness\",col(\"loudness\").cast(IntegerType())) \\\n",
    "    .withColumn(\"mode\",col(\"mode\").cast(IntegerType())) \\\n",
    "    .withColumn(\"speechiness\",col(\"speechiness\").cast(IntegerType())) \\\n",
    "    .withColumn(\"acousticness\",col(\"acousticness\").cast(IntegerType())) \\\n",
    "    .withColumn(\"instrumentalness\",col(\"instrumentalness\").cast(IntegerType())) \\\n",
    "    .withColumn(\"liveness\",col(\"liveness\").cast(IntegerType())) \\\n",
    "    .withColumn(\"valence\",col(\"valence\").cast(IntegerType())) \\\n",
    "    .withColumn(\"tempo\",col(\"tempo\").cast(IntegerType())) \\\n",
    "    .withColumn(\"time_signature\",col(\"time_signature\").cast(IntegerType())) \\\n",
    "    .withColumn(\"spotify_track_popularity\",col(\"spotify_track_popularity\").cast(IntegerType()))\n",
    "audio_features.printSchema()"
   ]
  },
  {
   "cell_type": "markdown",
   "id": "338f2b05",
   "metadata": {},
   "source": [
    "For the second main query, our aim is to derive information about the peak position a song has reached in the billboard and the main spotify information. For this, we need to join the two datasets:"
   ]
  },
  {
   "cell_type": "code",
   "execution_count": 17,
   "id": "8695a1ed",
   "metadata": {},
   "outputs": [
    {
     "name": "stdout",
     "output_type": "stream",
     "text": [
      "-RECORD 0-------------------------------------------------------------------------------\n",
      " performer        | \"\"\"Groove\"\" Holmes\"                                                 \n",
      " song             | Misty                                                               \n",
      " song_id          | \"Misty\"\"Groove\"\" Holmes\"                                            \n",
      " best_position    | 100                                                                 \n",
      " song_id          | \"Misty\"\"Groove\"\" Holmes\"                                            \n",
      " spotify_genre    | ['instrumental soul', 'jazz funk', 'jazz organ', 'soul jazz']       \n",
      " danceability     | 0                                                                   \n",
      " energy           | 0                                                                   \n",
      " key              | 8                                                                   \n",
      " loudness         | -9                                                                  \n",
      " speechiness      | 0                                                                   \n",
      " acousticness     | 0                                                                   \n",
      " instrumentalness | 0                                                                   \n",
      " liveness         | 0                                                                   \n",
      " valence          | 0                                                                   \n",
      " tempo            | 93                                                                  \n",
      "-RECORD 1-------------------------------------------------------------------------------\n",
      " performer        | \"\"\"Groove\"\" Holmes\"                                                 \n",
      " song             | What Now My Love                                                    \n",
      " song_id          | \"What Now My Love\"\"Groove\"\" Holmes\"                                 \n",
      " best_position    | 98                                                                  \n",
      " song_id          | \"What Now My Love\"\"Groove\"\" Holmes\"                                 \n",
      " spotify_genre    | ['instrumental soul', 'jazz funk', 'jazz organ', 'soul jazz']       \n",
      " danceability     | null                                                                \n",
      " energy           | null                                                                \n",
      " key              | null                                                                \n",
      " loudness         | null                                                                \n",
      " speechiness      | null                                                                \n",
      " acousticness     | null                                                                \n",
      " instrumentalness | null                                                                \n",
      " liveness         | null                                                                \n",
      " valence          | null                                                                \n",
      " tempo            | null                                                                \n",
      "-RECORD 2-------------------------------------------------------------------------------\n",
      " performer        | \"\"\"Little\"\" Jimmy Dickens\"                                          \n",
      " song             | May The Bird Of Paradise Fly Up Your Nose                           \n",
      " song_id          | \"May The Bird Of Paradise Fly Up Your Nose\"\"Little\"\" Jimmy Dickens\" \n",
      " best_position    | 90                                                                  \n",
      " song_id          | \"May The Bird Of Paradise Fly Up Your Nose\"\"Little\"\" Jimmy Dickens\" \n",
      " spotify_genre    | ['country gospel', 'traditional country']                           \n",
      " danceability     | 0                                                                   \n",
      " energy           | 0                                                                   \n",
      " key              | 4                                                                   \n",
      " loudness         | -8                                                                  \n",
      " speechiness      | 0                                                                   \n",
      " acousticness     | 0                                                                   \n",
      " instrumentalness | null                                                                \n",
      " liveness         | 0                                                                   \n",
      " valence          | 0                                                                   \n",
      " tempo            | 104                                                                 \n",
      "-RECORD 3-------------------------------------------------------------------------------\n",
      " performer        | \"\"\"Pookie\"\" Hudson\"                                                 \n",
      " song             | I Know I Know                                                       \n",
      " song_id          | \"I Know I Know\"\"Pookie\"\" Hudson\"                                    \n",
      " best_position    | 96                                                                  \n",
      " song_id          | \"I Know I Know\"\"Pookie\"\" Hudson\"                                    \n",
      " spotify_genre    | ['deep northern soul']                                              \n",
      " danceability     | null                                                                \n",
      " energy           | null                                                                \n",
      " key              | null                                                                \n",
      " loudness         | null                                                                \n",
      " speechiness      | null                                                                \n",
      " acousticness     | null                                                                \n",
      " instrumentalness | null                                                                \n",
      " liveness         | null                                                                \n",
      " valence          | null                                                                \n",
      " tempo            | null                                                                \n",
      "-RECORD 4-------------------------------------------------------------------------------\n",
      " performer        | \"\"\"Weird Al\"\" Yankovic\"                                             \n",
      " song             | Eat It                                                              \n",
      " song_id          | \"Eat It\"\"Weird Al\"\" Yankovic\"                                       \n",
      " best_position    | 59                                                                  \n",
      " song_id          | \"Eat It\"\"Weird Al\"\" Yankovic\"                                       \n",
      " spotify_genre    | ['antiviral pop', 'comedy rock', 'comic', 'parody']                 \n",
      " danceability     | 0                                                                   \n",
      " energy           | 0                                                                   \n",
      " key              | 7                                                                   \n",
      " loudness         | -8                                                                  \n",
      " speechiness      | 0                                                                   \n",
      " acousticness     | 0                                                                   \n",
      " instrumentalness | 0                                                                   \n",
      " liveness         | 0                                                                   \n",
      " valence          | 0                                                                   \n",
      " tempo            | 147                                                                 \n",
      "only showing top 5 rows\n",
      "\n"
     ]
    }
   ],
   "source": [
    "df_merge_left = billboard.groupBy(\"performer\", \"song\", \"song_id\").agg(sf.max('peak_position').alias('best_position'))\n",
    "df_merge_right = audio_features.select('song_id', 'spotify_genre', 'danceability', 'energy', 'key', 'loudness', 'speechiness', 'acousticness', 'instrumentalness', 'liveness', 'valence', 'tempo')\n",
    "df_merge = df_merge_left.join(df_merge_right,df_merge_left.song_id ==  df_merge_right.song_id,\"inner\") \\\n",
    "     .sort(col(\"performer\").asc())\n",
    "df_merge.show(5, truncate=False, vertical=True)"
   ]
  }
 ],
 "metadata": {
  "kernelspec": {
   "display_name": "Python 3 (ipykernel)",
   "language": "python",
   "name": "python3"
  },
  "language_info": {
   "codemirror_mode": {
    "name": "ipython",
    "version": 3
   },
   "file_extension": ".py",
   "mimetype": "text/x-python",
   "name": "python",
   "nbconvert_exporter": "python",
   "pygments_lexer": "ipython3",
   "version": "3.9.6"
  }
 },
 "nbformat": 4,
 "nbformat_minor": 5
}
